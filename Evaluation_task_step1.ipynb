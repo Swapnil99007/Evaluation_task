{
 "cells": [
  {
   "cell_type": "markdown",
   "metadata": {},
   "source": [
    "## Importing the necessary libraries"
   ]
  },
  {
   "cell_type": "code",
   "execution_count": null,
   "metadata": {},
   "outputs": [],
   "source": [
    "import os\n",
    "import numpy\n",
    "import matplotlib.pyplot as plt\n",
    "from PIL import Image, ImageEnhance\n",
    "from planetaryimage import PDS3Image\n",
    "import requests\n",
    "from bs4 import BeautifulSoup\n",
    "import os\n",
    "import urllib.request"
   ]
  },
  {
   "cell_type": "markdown",
   "metadata": {},
   "source": [
    "## Functions required to download the image from a given directory\n",
    "> ##### get_image_links\n",
    "-> This function is used to retrieve the image links of each image.\n",
    "> ##### download_images_from_url\n",
    "-> This function is used to download the images from the images links."
   ]
  },
  {
   "cell_type": "code",
   "execution_count": null,
   "metadata": {},
   "outputs": [],
   "source": [
    "def get_image_links(my_url):\n",
    "    r = requests.get(my_url)\n",
    "    soup = BeautifulSoup(r.content, 'html5lib')   # Creating BeautifulSoup type object\n",
    "    links = soup.findAll('a')   # Finding all links inside <a>(anchor tag)\n",
    "    image_links = [my_url + \"/\" + link['href'] for link in links if link['href'].endswith('IMG')]   # Creating the image url\n",
    "    return image_links\n",
    "\n",
    "def download_images_from_url(image_links, base_dir):\n",
    "    for link in image_links:   # Looping through all the image links\n",
    "        file_name = link.split('/')[-1]\n",
    "        print(\"Downloading file:%s\" % file_name)\n",
    "        urllib.request.urlretrieve(link, os.path.join(base_dir, str(file_name)))\n",
    "    print(\"\\n\\nAll images downloaded!\")\n",
    "\n",
    "def imageRetrieval(year, day):\n",
    "    my_url = \"https://pdsimage2.wr.usgs.gov/archive/mess-e_v_h-mdis-2-edr-rawdata-v1.0/MSGRMDS_1001/DATA/\"\n",
    "    my_url = my_url + year + \"_\" + day   #This is the final url which will be used to retrieve the images\n",
    "    base_dir = os.getcwd()\n",
    "    base_dir = base_dir+\"\\\\\" + year + \"_\"+day+\"\\\\\"\n",
    "    os.mkdir(base_dir)   # Making directory for the images\n",
    "    image_links = get_image_links(my_url)   # Used to get the image links\n",
    "    download_images_from_url(image_links, base_dir)   # Used to download the images"
   ]
  },
  {
   "cell_type": "markdown",
   "metadata": {},
   "source": [
    "## imageRetrieval Function called to download images from the given days and years :\n",
    "> ### Year : 2011, Day : 207\n",
    "> ### Year : 2014, Day : 215 "
   ]
  },
  {
   "cell_type": "code",
   "execution_count": null,
   "metadata": {},
   "outputs": [],
   "source": [
    "imageRetrieval(str(2011), str(207))"
   ]
  },
  {
   "cell_type": "code",
   "execution_count": null,
   "metadata": {},
   "outputs": [],
   "source": [
    "imageRetrieval(str(2014), str(215))"
   ]
  },
  {
   "cell_type": "markdown",
   "metadata": {},
   "source": [
    "##  Taking year and day of year as input"
   ]
  },
  {
   "cell_type": "code",
   "execution_count": null,
   "metadata": {
    "scrolled": true
   },
   "outputs": [],
   "source": [
    "day_of_year = input(\"Enter day : \")   # Input the day from which the images is to be downloaded\n",
    "year = input(\"Enter year : \")   # Input the year from which the images are to be downloaded"
   ]
  },
  {
   "cell_type": "markdown",
   "metadata": {},
   "source": [
    "## Downloading images of the specified date"
   ]
  },
  {
   "cell_type": "code",
   "execution_count": null,
   "metadata": {},
   "outputs": [],
   "source": [
    "imageRetrieval(year, day_of_year)   # Function called in order to download the images"
   ]
  },
  {
   "cell_type": "markdown",
   "metadata": {},
   "source": [
    "##  Plotting image EW0220137668G.IMG in 2011_207 directory"
   ]
  },
  {
   "cell_type": "code",
   "execution_count": null,
   "metadata": {},
   "outputs": [],
   "source": [
    "base_dir = os.getcwd()   # Getting current working directory\n",
    "base_dir_1 = base_dir + \"//2011_207//EW0220137668G.IMG\"\n",
    "image1 = PDS3Image.open(base_dir_1)\n",
    "image1 = image1.image   # image1 gets converted to numpy.ndarray\n",
    "plt.imshow(image1, cmap='gray')   # Image plotted in grayscale"
   ]
  },
  {
   "cell_type": "markdown",
   "metadata": {},
   "source": [
    "## Plotting image EN1049375684M.IMG in 2014_215 directory"
   ]
  },
  {
   "cell_type": "code",
   "execution_count": null,
   "metadata": {},
   "outputs": [],
   "source": [
    "base_dir_2 = base_dir + \"//2014_215//EN1049375684M.IMG\"\n",
    "image2 = PDS3Image.open(base_dir_2)\n",
    "image2 = image2.image\n",
    "plt.imshow(image2, cmap='gray')"
   ]
  },
  {
   "cell_type": "code",
   "execution_count": null,
   "metadata": {},
   "outputs": [],
   "source": []
  }
 ],
 "metadata": {
  "kernelspec": {
   "display_name": "Python 3",
   "language": "python",
   "name": "python3"
  },
  "language_info": {
   "codemirror_mode": {
    "name": "ipython",
    "version": 3
   },
   "file_extension": ".py",
   "mimetype": "text/x-python",
   "name": "python",
   "nbconvert_exporter": "python",
   "pygments_lexer": "ipython3",
   "version": "3.7.6"
  }
 },
 "nbformat": 4,
 "nbformat_minor": 2
}
