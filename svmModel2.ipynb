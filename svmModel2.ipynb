{
 "cells": [
  {
   "cell_type": "markdown",
   "metadata": {},
   "source": [
    "## Importing the required libraries and modules"
   ]
  },
  {
   "cell_type": "code",
   "execution_count": 1,
   "metadata": {},
   "outputs": [],
   "source": [
    "import numpy as np\n",
    "import os\n",
    "from planetaryimage import PDS3Image\n",
    "from PIL import Image\n",
    "import matplotlib.pyplot as plt\n",
    "from sklearn.model_selection import train_test_split\n",
    "from sklearn.svm import SVC\n",
    "from sklearn.metrics import accuracy_score, confusion_matrix\n",
    "#from joblib import dump, load"
   ]
  },
  {
   "cell_type": "markdown",
   "metadata": {},
   "source": [
    "## Labelling the images with no cosmic ray artifacts as 0"
   ]
  },
  {
   "cell_type": "code",
   "execution_count": 4,
   "metadata": {},
   "outputs": [
    {
     "name": "stdout",
     "output_type": "stream",
     "text": [
      "F:\\CERN_task\\class0NoArtifacts\n"
     ]
    }
   ],
   "source": [
    "#class0 No artifacts\n",
    "fold_path=os.path.join(os.getcwd(),'class0NoArtifacts')   # Getting the images folder path\n",
    "no_artifacts_sheet = []    # Creating an empty list\n",
    "newsize = (256,256)   # Defining the new image size\n",
    "for file in os.listdir(fold_path):   # Looping through all the imgaes\n",
    "    try:\n",
    "        image_object=PDS3Image.open(os.path.join(fold_path,file))\n",
    "        img1 = np.copy(image_object.image)\n",
    "        img1.resize(newsize)   # Resizing the image\n",
    "        image = np.asarray(img1).reshape((1,-1))[0]   # Reshaping the numpy image array\n",
    "        no_artifacts_sheet.append((image,0))   # Labelling all the images as '0'\n",
    "    except:\n",
    "        pass"
   ]
  },
  {
   "cell_type": "markdown",
   "metadata": {},
   "source": [
    "## Labelling the images with cosmic ray artifacts as 1"
   ]
  },
  {
   "cell_type": "code",
   "execution_count": 5,
   "metadata": {},
   "outputs": [
    {
     "name": "stdout",
     "output_type": "stream",
     "text": [
      "F:\\CERN_task\\class1Artifacts\n"
     ]
    }
   ],
   "source": [
    "#class1 artifacts\n",
    "fold_path=os.path.join(os.getcwd(),'class1Artifacts')   # Getting the images folder path\n",
    "artifacts_sheet = []   # Creating an empty list\n",
    "for file in os.listdir(fold_path):   # Looping through all the imgaes\n",
    "    try:\n",
    "        image_object=PDS3Image.open(os.path.join(fold_path,file))\n",
    "        img1 = np.copy(image_object.image)\n",
    "        img1.resize(newsize)   # Resizing the image\n",
    "        image = np.asarray(img1).reshape((1,-1))[0]   # Reshaping the numpy image array\n",
    "        artifacts_sheet.append((image,1))   # Labelling all the images as '1'\n",
    "    except:\n",
    "        pass"
   ]
  },
  {
   "cell_type": "markdown",
   "metadata": {},
   "source": [
    "## Preparing the complete dataset by combining the lists of label 0 and label 1 images"
   ]
  },
  {
   "cell_type": "code",
   "execution_count": 6,
   "metadata": {},
   "outputs": [],
   "source": [
    "X = []\n",
    "Y = []\n",
    "data = artifacts_sheet + no_artifacts_sheet   # Combining both the labelled datasets\n",
    "for x in data:\n",
    "    X.append(x[0])   # Appending all the image arrays to X\n",
    "    Y.append(x[1])   # Appending all the image labels to Y "
   ]
  },
  {
   "cell_type": "markdown",
   "metadata": {},
   "source": [
    "## Training the SVM Model using the prepared dataset"
   ]
  },
  {
   "cell_type": "code",
   "execution_count": 7,
   "metadata": {},
   "outputs": [],
   "source": [
    "X_train, X_test, y_train, y_test = train_test_split(X, Y, test_size=0.3, random_state=42)   # Creating the training and test set"
   ]
  },
  {
   "cell_type": "code",
   "execution_count": 8,
   "metadata": {},
   "outputs": [],
   "source": [
    "clf = SVC(C=100, kernel='rbf', gamma='scale')   # Building the Support Vector Classifier"
   ]
  },
  {
   "cell_type": "code",
   "execution_count": 14,
   "metadata": {},
   "outputs": [
    {
     "data": {
      "text/plain": [
       "SVC(C=100, break_ties=False, cache_size=200, class_weight=None, coef0=0.0,\n",
       "    decision_function_shape='ovr', degree=3, gamma='scale', kernel='rbf',\n",
       "    max_iter=-1, probability=False, random_state=None, shrinking=True,\n",
       "    tol=0.001, verbose=False)"
      ]
     },
     "execution_count": 14,
     "metadata": {},
     "output_type": "execute_result"
    }
   ],
   "source": [
    "clf.fit(X_train, y_train)   # Training the SVM Model\n",
    "#dump(clf, 'my_model.joblib') \n",
    "#clf = load('my_model.joblib')"
   ]
  },
  {
   "cell_type": "markdown",
   "metadata": {},
   "source": [
    "## Testing the trained model and calculating its accuracy"
   ]
  },
  {
   "cell_type": "code",
   "execution_count": 15,
   "metadata": {},
   "outputs": [
    {
     "name": "stdout",
     "output_type": "stream",
     "text": [
      "0.9554455445544554\n"
     ]
    }
   ],
   "source": [
    "predicted = clf.predict(X_test)\n",
    "print(accuracy_score(y_test, predicted))   # Printing the accuracy of the model"
   ]
  },
  {
   "cell_type": "markdown",
   "metadata": {},
   "source": [
    "## Printing the confusion matrix of the predicted result"
   ]
  },
  {
   "cell_type": "code",
   "execution_count": 16,
   "metadata": {},
   "outputs": [
    {
     "name": "stdout",
     "output_type": "stream",
     "text": [
      "[[120   2]\n",
      " [  7  73]]\n"
     ]
    }
   ],
   "source": [
    "print(confusion_matrix(y_test,predicted))"
   ]
  },
  {
   "cell_type": "code",
   "execution_count": null,
   "metadata": {},
   "outputs": [],
   "source": []
  }
 ],
 "metadata": {
  "kernelspec": {
   "display_name": "Python 3",
   "language": "python",
   "name": "python3"
  },
  "language_info": {
   "codemirror_mode": {
    "name": "ipython",
    "version": 3
   },
   "file_extension": ".py",
   "mimetype": "text/x-python",
   "name": "python",
   "nbconvert_exporter": "python",
   "pygments_lexer": "ipython3",
   "version": "3.7.6"
  }
 },
 "nbformat": 4,
 "nbformat_minor": 2
}
